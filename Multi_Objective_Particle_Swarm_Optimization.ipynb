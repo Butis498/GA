{
  "cells": [
    {
      "cell_type": "code",
      "execution_count": 13,
      "metadata": {
        "id": "3BwTkxPQTb_E"
      },
      "outputs": [],
      "source": [
        "import numpy as np\n",
        "from numpy import matlib\n",
        "import matplotlib.pyplot as plt\n",
        "import random as random\n",
        "import math"
      ]
    },
    {
      "cell_type": "code",
      "execution_count": 14,
      "metadata": {
        "id": "gsLQOnJ5UXId"
      },
      "outputs": [],
      "source": [
        "def deleteOneRepositoryMember(rep, gamma):\n",
        "  gridindices = [item.gridIndex for item in rep]\n",
        "  OCells = np.unique(gridindices)\n",
        "  N = np.zeros(len(OCells))\n",
        "  for k in range(len(OCells)):\n",
        "    N[k] = gridindices.count(OCells[k])\n",
        "\n",
        "  p = [math.exp(gamma*item) for item in N]\n",
        "  p = np.array(p)/sum(p)\n",
        "\n",
        "  sci = roulettewheelSelection(p)\n",
        "  SelectedCell = OCells[sci]\n",
        "\n",
        "  selectedCellmembers = [item for item in gridindices if item == SelectedCell]\n",
        "\n",
        "  selectedmemberindex = np.random.randint(0, len(selectedCellmembers))\n",
        "\n",
        "  rep = np.delete(rep, selectedmemberindex)\n",
        "\n",
        "  return rep.tolist()"
      ]
    },
    {
      "cell_type": "code",
      "execution_count": 15,
      "metadata": {
        "id": "yZRusLl0V2yZ"
      },
      "outputs": [],
      "source": [
        "def SelectLeader(rep, beta):\n",
        "  gridindices = [item.gridIndex for item in rep]\n",
        "  OCells = np.unique(gridindices)\n",
        "  N = np.zeros(len(OCells))\n",
        "  for k in range(len(OCells)):\n",
        "    N[k] = gridindices.count(OCells[k])\n",
        "\n",
        "  p = [math.exp(-beta*item) for item in N]\n",
        "  p = np.array(p)/sum(p)\n",
        "\n",
        "  sci = roulettewheelSelection(p)\n",
        "  SelectedCell = OCells[sci]\n",
        "\n",
        "  selectedCellmembers = [item for item in gridindices if item == SelectedCell]\n",
        "  selectedmemberindex = np.random.randint(0, len(selectedCellmembers))\n",
        "\n",
        "  return rep[selectedmemberindex]"
      ]
    },
    {
      "cell_type": "code",
      "execution_count": 16,
      "metadata": {
        "id": "Q5GjarrnXePk"
      },
      "outputs": [],
      "source": [
        "def roulettewheelSelection(p):\n",
        "  r = random.random()\n",
        "  cumsum = np.cumsum(p)\n",
        "  y = (cumsum<r)\n",
        "  x = [i for i in y if i==True]\n",
        "  return len(x)\n",
        "\n",
        "def FindGridIndex(particle, grid):\n",
        "  nObj = len(particle.cost)\n",
        "  NGrid = len(grid[0].LowerBounds)\n",
        "\n",
        "  particle.gridSubIndex = np.zeros((1, nObj))[0]\n",
        "  for j in range(nObj):\n",
        "    index_in_Dim = len([item for item in grid[j].UpperBounds if particle.cost[j]>item])\n",
        "    particle.gridSubIndex[j] = index_in_Dim\n",
        "\n",
        "  particle.gridIndex = particle.gridSubIndex[0]\n",
        "\n",
        "  for j in range(1, nObj):\n",
        "    particle.gridIndex = particle.gridIndex\n",
        "    particle.gridIndex = NGrid*particle.gridIndex\n",
        "    particle.gridIndex = particle.gridIndex + particle.gridSubIndex[j]\n",
        "\n",
        "  return particle"
      ]
    },
    {
      "cell_type": "code",
      "execution_count": 17,
      "metadata": {
        "id": "IXECbZOaZYH0"
      },
      "outputs": [],
      "source": [
        "def CreateGrid(pop, nGrid, alpha, nobj):\n",
        "  costs = [item.cost for item in pop]\n",
        "  Cmin = np.min(costs, axis=0)\n",
        "  Cmax = np.max(costs, axis=0)\n",
        "  deltaC = Cmax - Cmin\n",
        "  Cmin = Cmin - alpha*deltaC\n",
        "  Cmax = Cmax + alpha*deltaC\n",
        "\n",
        "  grid = [GridDim() for p in range(nobj)]\n",
        "  for i in range(nobj):\n",
        "    dimValues = np.inspace(Cmin[i], Cmax[i], nGrid+1).tolist()\n",
        "    grid[i].LowerBounds = [-float('inf')] + dimValues\n",
        "    grid[i].UpperBounds = dimValues + [float('inf')]\n",
        "  return grid\n",
        "\n",
        "def Dominates(x, y):\n",
        "  x = np.array(x)\n",
        "  y = np.array(y)\n",
        "  x_dominate_y = all(x<=y) and any(x<y)\n",
        "  return x_dominate_y\n",
        "\n",
        "def DetermineDomination(pop):\n",
        "  pop_len = len(pop)\n",
        "  for i in range(pop_len):\n",
        "    pop[i].IsDominated = False\n",
        "\n",
        "  for i in range(pop_len-1):\n",
        "    for j in range(i+1, pop_len):\n",
        "      if Dominates(pop[i].cost, pop[j].cost):\n",
        "        pop[j].IsDominated = True\n",
        "      if Dominates(pop[j].cost, pop[i].cost):\n",
        "        pop[i].IsDominated = True\n",
        "  return pop"
      ]
    },
    {
      "cell_type": "code",
      "execution_count": 18,
      "metadata": {
        "colab": {
          "base_uri": "https://localhost:8080/",
          "height": 390
        },
        "id": "YnywE6CCcMDe",
        "outputId": "43020273-65fe-46c4-87a9-fe7207bd5298"
      },
      "outputs": [
        {
          "ename": "ValueError",
          "evalue": "ignored",
          "output_type": "error",
          "traceback": [
            "\u001b[0;31m---------------------------------------------------------------------------\u001b[0m",
            "\u001b[0;31mValueError\u001b[0m                                Traceback (most recent call last)",
            "\u001b[0;32m<ipython-input-18-afa2b3eb648f>\u001b[0m in \u001b[0;36m<cell line: 41>\u001b[0;34m()\u001b[0m\n\u001b[1;32m     47\u001b[0m   \u001b[0mParticles\u001b[0m\u001b[0;34m[\u001b[0m\u001b[0mi\u001b[0m\u001b[0;34m]\u001b[0m\u001b[0;34m.\u001b[0m\u001b[0mIsDominated\u001b[0m \u001b[0;34m=\u001b[0m \u001b[0;32mFalse\u001b[0m\u001b[0;34m\u001b[0m\u001b[0;34m\u001b[0m\u001b[0m\n\u001b[1;32m     48\u001b[0m \u001b[0;34m\u001b[0m\u001b[0m\n\u001b[0;32m---> 49\u001b[0;31m   \u001b[0mParticles\u001b[0m \u001b[0;34m=\u001b[0m \u001b[0mDetermineDomination\u001b[0m\u001b[0;34m(\u001b[0m\u001b[0mParticles\u001b[0m\u001b[0;34m)\u001b[0m\u001b[0;34m\u001b[0m\u001b[0;34m\u001b[0m\u001b[0m\n\u001b[0m\u001b[1;32m     50\u001b[0m \u001b[0;34m\u001b[0m\u001b[0m\n\u001b[1;32m     51\u001b[0m   \u001b[0mRepos\u001b[0m \u001b[0;34m=\u001b[0m \u001b[0;34m[\u001b[0m\u001b[0mitem\u001b[0m \u001b[0;32mfor\u001b[0m \u001b[0mitem\u001b[0m \u001b[0;32min\u001b[0m \u001b[0mParticles\u001b[0m \u001b[0;32mif\u001b[0m \u001b[0mitem\u001b[0m\u001b[0;34m.\u001b[0m\u001b[0mIsDominated\u001b[0m \u001b[0;34m==\u001b[0m \u001b[0;32mFalse\u001b[0m\u001b[0;34m]\u001b[0m\u001b[0;34m\u001b[0m\u001b[0;34m\u001b[0m\u001b[0m\n",
            "\u001b[0;32m<ipython-input-17-7021789d7325>\u001b[0m in \u001b[0;36mDetermineDomination\u001b[0;34m(pop)\u001b[0m\n\u001b[1;32m     27\u001b[0m   \u001b[0;32mfor\u001b[0m \u001b[0mi\u001b[0m \u001b[0;32min\u001b[0m \u001b[0mrange\u001b[0m\u001b[0;34m(\u001b[0m\u001b[0mpop_len\u001b[0m\u001b[0;34m-\u001b[0m\u001b[0;36m1\u001b[0m\u001b[0;34m)\u001b[0m\u001b[0;34m:\u001b[0m\u001b[0;34m\u001b[0m\u001b[0;34m\u001b[0m\u001b[0m\n\u001b[1;32m     28\u001b[0m     \u001b[0;32mfor\u001b[0m \u001b[0mj\u001b[0m \u001b[0;32min\u001b[0m \u001b[0mrange\u001b[0m\u001b[0;34m(\u001b[0m\u001b[0mi\u001b[0m\u001b[0;34m+\u001b[0m\u001b[0;36m1\u001b[0m\u001b[0;34m,\u001b[0m \u001b[0mpop_len\u001b[0m\u001b[0;34m)\u001b[0m\u001b[0;34m:\u001b[0m\u001b[0;34m\u001b[0m\u001b[0;34m\u001b[0m\u001b[0m\n\u001b[0;32m---> 29\u001b[0;31m       \u001b[0;32mif\u001b[0m \u001b[0mDominates\u001b[0m\u001b[0;34m(\u001b[0m\u001b[0mpop\u001b[0m\u001b[0;34m[\u001b[0m\u001b[0mi\u001b[0m\u001b[0;34m]\u001b[0m\u001b[0;34m.\u001b[0m\u001b[0mcost\u001b[0m\u001b[0;34m,\u001b[0m \u001b[0mpop\u001b[0m\u001b[0;34m[\u001b[0m\u001b[0mj\u001b[0m\u001b[0;34m]\u001b[0m\u001b[0;34m.\u001b[0m\u001b[0mcost\u001b[0m\u001b[0;34m)\u001b[0m\u001b[0;34m:\u001b[0m\u001b[0;34m\u001b[0m\u001b[0;34m\u001b[0m\u001b[0m\n\u001b[0m\u001b[1;32m     30\u001b[0m         \u001b[0mpop\u001b[0m\u001b[0;34m[\u001b[0m\u001b[0mj\u001b[0m\u001b[0;34m]\u001b[0m\u001b[0;34m.\u001b[0m\u001b[0mIsDominated\u001b[0m \u001b[0;34m=\u001b[0m \u001b[0;32mTrue\u001b[0m\u001b[0;34m\u001b[0m\u001b[0;34m\u001b[0m\u001b[0m\n\u001b[1;32m     31\u001b[0m       \u001b[0;32mif\u001b[0m \u001b[0mDominates\u001b[0m\u001b[0;34m(\u001b[0m\u001b[0mpop\u001b[0m\u001b[0;34m[\u001b[0m\u001b[0mj\u001b[0m\u001b[0;34m]\u001b[0m\u001b[0;34m.\u001b[0m\u001b[0mcost\u001b[0m\u001b[0;34m,\u001b[0m \u001b[0mpop\u001b[0m\u001b[0;34m[\u001b[0m\u001b[0mi\u001b[0m\u001b[0;34m]\u001b[0m\u001b[0;34m.\u001b[0m\u001b[0mcost\u001b[0m\u001b[0;34m)\u001b[0m\u001b[0;34m:\u001b[0m\u001b[0;34m\u001b[0m\u001b[0;34m\u001b[0m\u001b[0m\n",
            "\u001b[0;32m<ipython-input-17-7021789d7325>\u001b[0m in \u001b[0;36mDominates\u001b[0;34m(x, y)\u001b[0m\n\u001b[1;32m     17\u001b[0m   \u001b[0mx\u001b[0m \u001b[0;34m=\u001b[0m \u001b[0mnp\u001b[0m\u001b[0;34m.\u001b[0m\u001b[0marray\u001b[0m\u001b[0;34m(\u001b[0m\u001b[0mx\u001b[0m\u001b[0;34m)\u001b[0m\u001b[0;34m\u001b[0m\u001b[0;34m\u001b[0m\u001b[0m\n\u001b[1;32m     18\u001b[0m   \u001b[0my\u001b[0m \u001b[0;34m=\u001b[0m \u001b[0mnp\u001b[0m\u001b[0;34m.\u001b[0m\u001b[0marray\u001b[0m\u001b[0;34m(\u001b[0m\u001b[0my\u001b[0m\u001b[0;34m)\u001b[0m\u001b[0;34m\u001b[0m\u001b[0;34m\u001b[0m\u001b[0m\n\u001b[0;32m---> 19\u001b[0;31m   \u001b[0mx_dominate_y\u001b[0m \u001b[0;34m=\u001b[0m \u001b[0mall\u001b[0m\u001b[0;34m(\u001b[0m\u001b[0mx\u001b[0m\u001b[0;34m<=\u001b[0m\u001b[0my\u001b[0m\u001b[0;34m)\u001b[0m \u001b[0;32mand\u001b[0m \u001b[0many\u001b[0m\u001b[0;34m(\u001b[0m\u001b[0mx\u001b[0m\u001b[0;34m<\u001b[0m\u001b[0my\u001b[0m\u001b[0;34m)\u001b[0m\u001b[0;34m\u001b[0m\u001b[0;34m\u001b[0m\u001b[0m\n\u001b[0m\u001b[1;32m     20\u001b[0m   \u001b[0;32mreturn\u001b[0m \u001b[0mx_dominate_y\u001b[0m\u001b[0;34m\u001b[0m\u001b[0;34m\u001b[0m\u001b[0m\n\u001b[1;32m     21\u001b[0m \u001b[0;34m\u001b[0m\u001b[0m\n",
            "\u001b[0;31mValueError\u001b[0m: operands could not be broadcast together with shapes (2,) (0,) "
          ]
        }
      ],
      "source": [
        "def MOP2(x):\n",
        "  x = np.array(x)\n",
        "  n = len(x)\n",
        "  z1 = 1 - math.exp(-sum((x-1/math.sqrt(n))**2))\n",
        "  z2 = 1 - math.exp(-sum((x+1/math.sqrt(n))**2))\n",
        "  return [z1, z2]\n",
        "\n",
        "costfunction = lambda x: MOP2(x)\n",
        "\n",
        "nVar = 5\n",
        "varMin = -4\n",
        "varMax = 4\n",
        "maxIt = 100\n",
        "nPop = 200\n",
        "nRep = 50\n",
        "w = 0.5\n",
        "c1 = 2\n",
        "c2 = 2\n",
        "wdamping = 0.99\n",
        "\n",
        "beta = 1\n",
        "gamma = 1\n",
        "NoGrid = 5\n",
        "alpha = 0.1\n",
        "\n",
        "class Particle:\n",
        "  position = []\n",
        "  cost = []\n",
        "  velocity = []\n",
        "  best_position = []\n",
        "  best_cost = []\n",
        "  IsDominated = []\n",
        "  gridIndex = []\n",
        "  gridSubIndex = []\n",
        "\n",
        "class GridFim:\n",
        "  LowerBounds = []\n",
        "  UpperBounds = []\n",
        "\n",
        "Particles = [Particle() for p in range(nPop)]\n",
        "for i in range(nPop):\n",
        "  Particles[i].position = np.random.uniform(varMin, varMax, nVar)\n",
        "  Particles[i].velocity = np.zeros(nVar)\n",
        "  Particles[i].cost = costfunction(Particles[i].position)\n",
        "  Particles[i].best_position = Particles[i].position\n",
        "  Particles[i].best_cost = Particles[i].cost\n",
        "  Particles[i].IsDominated = False\n",
        "\n",
        "  Particles = DetermineDomination(Particles)\n",
        "\n",
        "  Repos = [item for item in Particles if item.IsDominated == False]\n",
        "  nObj = len(Repos[0].cost)\n",
        "  grid = CreateGrid(Repos, NoGrid, alpha=0.1, nobj=nObj)\n",
        "\n",
        "  for r in range(len(Repos)):\n",
        "    Repos[r] = FindGridIndex(Repos[0], grid)\n",
        "\n",
        "  for it in range(maxIt):\n",
        "    for i in range(nPop):\n",
        "      leader = SelectLeader(Repos, beta)\n",
        "\n",
        "      Particles[i].velocity = w*Particles[i].velocity \\\n",
        "      + c1*np.random.rand(1, nVar)[0]*(Particles[i].best_position - Particles[i].position) \\\n",
        "      + c2*np.random.rand(1, nVar)[0]*(leader.position - Particles[i].position)\n",
        "\n",
        "      Particles[i].position = Particles[i].position + Particles[i].velocity\n",
        "\n",
        "      Particles[i].cost = costfunction(Particles[i].position)\n",
        "\n",
        "      if Dominates(Particles[i].cost, Particles[i].best_cost):\n",
        "        Particles[i].best_position = Particles[i].position\n",
        "        Particles[i].best_cost = Particles[i].cost\n",
        "      else:\n",
        "        if np.random.rand() > 0.5:\n",
        "          Particles[i].best_position = Particles[i].position\n",
        "          Particles[i].best_cost = Particles[i].cost\n",
        "\n",
        "    Repos = Repos + Particles\n",
        "    Repos = DetermineDomination(Repos)\n",
        "    Repos = [item for item in Repos if item.IsDominated == False]\n",
        "\n",
        "    grid = CreateGrid(Repos, NoGrid, alpha=0.1, nobj=nObj)\n",
        "    for r in range(len(Repos)):\n",
        "      Repos[r] = FindGridIndex(Repos[r], grid)\n",
        "\n",
        "    if len(Repos) > nRep:\n",
        "      extra = len(Repos) - nRep\n",
        "      for e in range(extra):\n",
        "        Repos = deleteOneRepositoryMember(Repos, gamma)\n",
        "\n",
        "    plt.clf()\n",
        "    particlesCost = np.reshape([item.cost for item in Particles], newshape=(nPop, 1))\n",
        "    repositoryCost = [item.cost for item in Repos]\n",
        "    repositoryCost = np.reshape(repositoryCost, newshape=(len(repositoryCost), 2))\n",
        "    plt.plot(particlesCost[:,0], particlesCost[:,1], 'o', mfc='none')\n",
        "    plt.plot(repositoryCost[:,0], repositoryCost[:,1],'r*')\n",
        "\n",
        "    plt.draw()\n",
        "    plt.pause(0.000000001)\n",
        "\n",
        "    w = w*wdamping\n",
        "\n",
        "plt.show()"
      ]
    },
    {
      "cell_type": "code",
      "execution_count": null,
      "metadata": {
        "id": "s82oNqcrkN3X"
      },
      "outputs": [],
      "source": []
    }
  ],
  "metadata": {
    "colab": {
      "provenance": []
    },
    "kernelspec": {
      "display_name": "Python 3",
      "name": "python3"
    },
    "language_info": {
      "name": "python"
    }
  },
  "nbformat": 4,
  "nbformat_minor": 0
}
